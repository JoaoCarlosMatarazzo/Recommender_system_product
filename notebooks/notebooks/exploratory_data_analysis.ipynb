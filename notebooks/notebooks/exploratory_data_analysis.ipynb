{
 "cells": [
  {
   "cell_type": "code",
   "execution_count": null,
   "metadata": {},
   "outputs": [],
   "source": [
    "import pandas as pd\n",
    "import matplotlib.pyplot as plt\n",
    "import seaborn as sns\n",
    "\n",
    "# Carregando os dados\n",
    "ratings = pd.read_csv('../data/ratings.csv')\n",
    "products = pd.read_csv('../data/products.csv')\n",
    "\n",
    "# Visualizando as primeiras linhas dos dados\n",
    "print(\"Ratings Data\")\n",
    "print(ratings.head())\n",
    "print(\"\\nProducts Data\")\n",
    "print(products.head())\n",
    "print(\"\\nRatings Summary\")\n",
    "print(ratings.describe())\n",
    "print(\"\\nProducts Summary\")\n",
    "print(products.describe())\n",
    "\n",
    "# Distribuição das avaliações\n",
    "plt.figure(figsize=(10, 5))\n",
    "sns.countplot(x='rating', data=ratings)\n",
    "plt.title('Distribuição das Avaliações')\n",
    "plt.xlabel('Rating')\n",
    "plt.ylabel('Contagem')\n",
    "plt.show()\n",
    "\n",
    "# Número de avaliações por produto\n",
    "product_ratings_count = ratings['product_id'].value_counts()\n",
    "plt.figure(figsize=(10, 5))\n",
    "sns.histplot(product_ratings_count, bins=50, kde=False)\n",
    "plt.title('Número de Avaliações por Produto')\n",
    "plt.xlabel('Número de Avaliações')\n",
    "plt.ylabel('Número de Produtos')\n",
    "plt.show()\n",
    "\n",
    "# Número de avaliações por usuário\n",
    "user_ratings_count = ratings['user_id'].value_counts()\n",
    "plt.figure(figsize=(10, 5))\n",
    "sns.histplot(user_ratings_count, bins=50, kde=False)\n",
    "plt.title('Número de Avaliações por Usuário')\n",
    "plt.xlabel('Número de Avaliações')\n",
    "plt.ylabel('Número de Usuários')\n",
    "plt.show()\n",
    "\n",
    "# Analisando as features dos produtos\n",
    "print(\"\\nProduct Features\")\n",
    "print(products['features'].head())\n",
    "\n",
    "# (Adicione mais análises conforme necessário)\n"
   ]
  }
 ],
 "metadata": {
  "language_info": {
   "name": "python"
  }
 },
 "nbformat": 4,
 "nbformat_minor": 2
}
